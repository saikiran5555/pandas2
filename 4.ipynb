{
 "cells": [
  {
   "cell_type": "code",
   "execution_count": 1,
   "id": "01ba3c43",
   "metadata": {},
   "outputs": [
    {
     "name": "stdout",
     "output_type": "stream",
     "text": [
      "                         Text  Word_Count\n",
      "0         Hello, how are you?           4\n",
      "1  This is a sample sentence.           5\n",
      "2    Pandas DataFrame example           3\n"
     ]
    }
   ],
   "source": [
    "import pandas as pd\n",
    "\n",
    "def add_word_count_column(df):\n",
    "    # Apply a function to count words in each row of the 'Text' column\n",
    "    df['Word_Count'] = df['Text'].apply(lambda text: len(text.split()))\n",
    "    return df\n",
    "\n",
    "# Example DataFrame\n",
    "data = {\n",
    "    'Text': [\"Hello, how are you?\", \"This is a sample sentence.\", \"Pandas DataFrame example\"]\n",
    "}\n",
    "df = pd.DataFrame(data)\n",
    "\n",
    "# Add the 'Word_Count' column\n",
    "df_with_word_count = add_word_count_column(df)\n",
    "\n",
    "print(df_with_word_count)\n"
   ]
  },
  {
   "cell_type": "code",
   "execution_count": null,
   "id": "83085ec8",
   "metadata": {},
   "outputs": [],
   "source": []
  }
 ],
 "metadata": {
  "kernelspec": {
   "display_name": "Python 3 (ipykernel)",
   "language": "python",
   "name": "python3"
  },
  "language_info": {
   "codemirror_mode": {
    "name": "ipython",
    "version": 3
   },
   "file_extension": ".py",
   "mimetype": "text/x-python",
   "name": "python",
   "nbconvert_exporter": "python",
   "pygments_lexer": "ipython3",
   "version": "3.10.9"
  }
 },
 "nbformat": 4,
 "nbformat_minor": 5
}
