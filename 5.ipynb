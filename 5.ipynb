{
 "cells": [
  {
   "cell_type": "markdown",
   "id": "57292c9c",
   "metadata": {},
   "source": [
    "Both DataFrame.size and DataFrame.shape are attributes of a Pandas DataFrame that provide information about the dimensions of the DataFrame, but they convey different aspects of the data. Here's how they are different:\n",
    "\n",
    "DataFrame.size: This attribute returns the total number of elements in the DataFrame, which is equivalent to the total number of cells (rows multiplied by columns). It provides a single integer value representing the size of the DataFrame.\n",
    "\n",
    "DataFrame.shape: This attribute returns a tuple representing the dimensions of the DataFrame in the form (rows, columns). It provides a clearer breakdown of the number of rows and columns in the DataFrame."
   ]
  },
  {
   "cell_type": "code",
   "execution_count": 1,
   "id": "17f3cd64",
   "metadata": {},
   "outputs": [
    {
     "name": "stdout",
     "output_type": "stream",
     "text": [
      "DataFrame size: 9\n",
      "DataFrame shape: (3, 3)\n"
     ]
    }
   ],
   "source": [
    "import pandas as pd\n",
    "\n",
    "data = {\n",
    "    'Name': ['Alice', 'Bob', 'Claire'],\n",
    "    'Age': [25, 30, 27],\n",
    "    'Gender': ['Female', 'Male', 'Female']\n",
    "}\n",
    "\n",
    "df = pd.DataFrame(data)\n",
    "\n",
    "size = df.size\n",
    "shape = df.shape\n",
    "\n",
    "print(\"DataFrame size:\", size)\n",
    "print(\"DataFrame shape:\", shape)\n"
   ]
  },
  {
   "cell_type": "code",
   "execution_count": null,
   "id": "d0307385",
   "metadata": {},
   "outputs": [],
   "source": []
  }
 ],
 "metadata": {
  "kernelspec": {
   "display_name": "Python 3 (ipykernel)",
   "language": "python",
   "name": "python3"
  },
  "language_info": {
   "codemirror_mode": {
    "name": "ipython",
    "version": 3
   },
   "file_extension": ".py",
   "mimetype": "text/x-python",
   "name": "python",
   "nbconvert_exporter": "python",
   "pygments_lexer": "ipython3",
   "version": "3.10.9"
  }
 },
 "nbformat": 4,
 "nbformat_minor": 5
}
