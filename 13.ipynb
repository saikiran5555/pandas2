{
 "cells": [
  {
   "cell_type": "markdown",
   "id": "f34639bc",
   "metadata": {},
   "source": [
    "The first and foremost necessary library that needs to be imported to use the basic functions of Pandas is the pandas library itself. You import the pandas library using the import statement, like this:"
   ]
  },
  {
   "cell_type": "code",
   "execution_count": 1,
   "id": "65704e8a",
   "metadata": {},
   "outputs": [],
   "source": [
    "import pandas as pd\n"
   ]
  },
  {
   "cell_type": "markdown",
   "id": "fe70b4e1",
   "metadata": {},
   "source": [
    "By convention, pd is a widely used alias for the pandas library, and it makes it easier to reference and use Pandas functions in your code. After importing Pandas, you can use its functions and classes to work with data in DataFrame and Series objects."
   ]
  }
 ],
 "metadata": {
  "kernelspec": {
   "display_name": "Python 3 (ipykernel)",
   "language": "python",
   "name": "python3"
  },
  "language_info": {
   "codemirror_mode": {
    "name": "ipython",
    "version": 3
   },
   "file_extension": ".py",
   "mimetype": "text/x-python",
   "name": "python",
   "nbconvert_exporter": "python",
   "pygments_lexer": "ipython3",
   "version": "3.10.9"
  }
 },
 "nbformat": 4,
 "nbformat_minor": 5
}
