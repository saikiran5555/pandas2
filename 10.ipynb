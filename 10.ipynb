{
 "cells": [
  {
   "cell_type": "code",
   "execution_count": 1,
   "id": "dd29c3b8",
   "metadata": {},
   "outputs": [
    {
     "name": "stdout",
     "output_type": "stream",
     "text": [
      "        Date  Sales  MovingAverage\n",
      "0 2023-08-01    100     100.000000\n",
      "1 2023-08-02    150     125.000000\n",
      "2 2023-08-03    200     150.000000\n",
      "3 2023-08-04    180     157.500000\n",
      "4 2023-08-05    220     170.000000\n",
      "5 2023-08-06    250     183.333333\n",
      "6 2023-08-07    280     197.142857\n"
     ]
    }
   ],
   "source": [
    "import pandas as pd\n",
    "\n",
    "def calculate_moving_average(df):\n",
    "    window_size = 7\n",
    "    df['MovingAverage'] = df['Sales'].rolling(window=window_size, min_periods=1).mean()\n",
    "    return df\n",
    "\n",
    "# Example DataFrame\n",
    "data = {\n",
    "    'Date': ['2023-08-01', '2023-08-02', '2023-08-03', '2023-08-04', '2023-08-05', '2023-08-06', '2023-08-07'],\n",
    "    'Sales': [100, 150, 200, 180, 220, 250, 280]\n",
    "}\n",
    "df = pd.DataFrame(data)\n",
    "\n",
    "# Convert the 'Date' column to datetime\n",
    "df['Date'] = pd.to_datetime(df['Date'])\n",
    "\n",
    "# Calculate and add the moving average column\n",
    "df_with_moving_avg = calculate_moving_average(df)\n",
    "\n",
    "print(df_with_moving_avg)\n"
   ]
  },
  {
   "cell_type": "code",
   "execution_count": null,
   "id": "c40b4ce1",
   "metadata": {},
   "outputs": [],
   "source": []
  }
 ],
 "metadata": {
  "kernelspec": {
   "display_name": "Python 3 (ipykernel)",
   "language": "python",
   "name": "python3"
  },
  "language_info": {
   "codemirror_mode": {
    "name": "ipython",
    "version": 3
   },
   "file_extension": ".py",
   "mimetype": "text/x-python",
   "name": "python",
   "nbconvert_exporter": "python",
   "pygments_lexer": "ipython3",
   "version": "3.10.9"
  }
 },
 "nbformat": 4,
 "nbformat_minor": 5
}
